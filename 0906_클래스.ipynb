{
  "nbformat": 4,
  "nbformat_minor": 0,
  "metadata": {
    "colab": {
      "provenance": [],
      "authorship_tag": "ABX9TyOHp4ZInWb384kzJkeXps+n",
      "include_colab_link": true
    },
    "kernelspec": {
      "name": "python3",
      "display_name": "Python 3"
    },
    "language_info": {
      "name": "python"
    }
  },
  "cells": [
    {
      "cell_type": "markdown",
      "metadata": {
        "id": "view-in-github",
        "colab_type": "text"
      },
      "source": [
        "<a href=\"https://colab.research.google.com/github/ooooasisss/sesac_codingtest/blob/main/0906_%ED%81%B4%EB%9E%98%EC%8A%A4.ipynb\" target=\"_parent\"><img src=\"https://colab.research.google.com/assets/colab-badge.svg\" alt=\"Open In Colab\"/></a>"
      ]
    },
    {
      "cell_type": "markdown",
      "source": [
        "--------\n",
        "###클래스만들기"
      ],
      "metadata": {
        "id": "GBYu1AqQNq_F"
      }
    },
    {
      "cell_type": "code",
      "execution_count": null,
      "metadata": {
        "colab": {
          "base_uri": "https://localhost:8080/"
        },
        "id": "JU6t8gz28JSt",
        "outputId": "5b1a3b1c-571d-4ef5-9990-0412b5e20818"
      },
      "outputs": [
        {
          "output_type": "stream",
          "name": "stdout",
          "text": [
            "10 20\n",
            "30\n"
          ]
        }
      ],
      "source": [
        "class FourCal:\n",
        "  def set_data(self, num1, num2):\n",
        "    self.num1 = num1\n",
        "    self.num2 = num2\n",
        "\n",
        "  def add(self):\n",
        "    return self.num1 + self.num2\n",
        "\n",
        "a = FourCal()\n",
        "a.set_data(10,20)\n",
        "print(a.num1, a.num2)\n",
        "print(a.add())"
      ]
    },
    {
      "cell_type": "code",
      "source": [
        "class FourCal:\n",
        "  def __init__(self, num1, num2):\n",
        "    self.num1 = num1\n",
        "    self.num2 = num2\n",
        "\n",
        "  def add(self):\n",
        "    return self.num1 + self.num2\n",
        "\n",
        "a = FourCal(10,20)\n",
        "\n",
        "print(a.num1, a.num2)\n",
        "print(a.add())\n",
        "# 이게 1번 방법보다 훨씬 나음. 더 간단하기 때문"
      ],
      "metadata": {
        "colab": {
          "base_uri": "https://localhost:8080/"
        },
        "id": "z53yiqB-9-37",
        "outputId": "86dd885e-d67a-4259-eec0-14e87bbac5d3"
      },
      "execution_count": null,
      "outputs": [
        {
          "output_type": "stream",
          "name": "stdout",
          "text": [
            "10 20\n",
            "30\n"
          ]
        }
      ]
    },
    {
      "cell_type": "markdown",
      "source": [
        "--------\n",
        "###실습문제"
      ],
      "metadata": {
        "id": "VaO7OsZ6Njio"
      }
    },
    {
      "cell_type": "code",
      "source": [
        "#backaccount이름의 클래스 생성\n",
        "#생성자 메서드로 계좌번호, 예금주명, 초기잔액을 받아 계좌생성\n",
        "#입금, 출금, 현재 계좌의 잔액을 반환하는 메서드 생성\n",
        "\n",
        "class BankAccount:\n",
        "    def __init__(self,account,name,balance):\n",
        "      self.account=account\n",
        "      self.name=name\n",
        "      self.balance=balance\n",
        "\n",
        "    def input(self,money):\n",
        "      self.balance=self.balance+money\n",
        "\n",
        "    def output(self,money):\n",
        "      self.balance=self.balance-money\n",
        "\n",
        "    def show(self):\n",
        "      print(f'{self.name}님의 잔고는 {self.balance}입니다')\n",
        "\n",
        "my_account=BankAccount('1002-162-043-134','김가영',100)\n",
        "your_account=BankAccount('123-456-789','김민주',100000)\n",
        "print(my_account.balance)\n",
        "my_account.input(5000)\n",
        "print(my_account.balance)\n",
        "my_account.output(300)\n",
        "print(my_account.balance)\n",
        "my_account.show()"
      ],
      "metadata": {
        "colab": {
          "base_uri": "https://localhost:8080/"
        },
        "id": "9fTD8o9jGowI",
        "outputId": "9b6f9d2c-79e9-447c-c677-099c70254409"
      },
      "execution_count": null,
      "outputs": [
        {
          "output_type": "stream",
          "name": "stdout",
          "text": [
            "100\n",
            "5100\n",
            "4800\n",
            "김가영님의 잔고는 4800입니다\n"
          ]
        }
      ]
    },
    {
      "cell_type": "markdown",
      "source": [
        "---\n",
        "\n",
        "### 상속"
      ],
      "metadata": {
        "id": "kE7kvFAUNW9F"
      }
    },
    {
      "cell_type": "code",
      "source": [
        "class FourCal:\n",
        "    def __init__(self, num1, num2):\n",
        "        self.num1 = num1\n",
        "        self.num2 = num2\n",
        "\n",
        "    def add(self):\n",
        "        return self.num1 + self.num2\n",
        "\n",
        "    def subtract(self):\n",
        "        return self.num1 - self.num2\n",
        "\n",
        "    def multiply(self):\n",
        "        return self.num1 * self.num2\n",
        "\n",
        "    def divide(self):\n",
        "        return self.num1 / self.num2"
      ],
      "metadata": {
        "id": "zrL6KEG-Mfd_"
      },
      "execution_count": null,
      "outputs": []
    },
    {
      "cell_type": "code",
      "source": [
        "#MoreFourCal : 자식클래스, FourCal : 부모클래스\n",
        "class MoreFourCal(FourCal):\n",
        "  pass"
      ],
      "metadata": {
        "id": "QqUiOSn1NJ3m"
      },
      "execution_count": null,
      "outputs": []
    }
  ]
}